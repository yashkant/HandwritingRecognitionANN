{
 "cells": [
  {
   "cell_type": "code",
   "execution_count": 1,
   "metadata": {
    "collapsed": false,
    "deletable": true,
    "editable": true
   },
   "outputs": [
    {
     "ename": "ImportError",
     "evalue": "No module named tensorflow.examples.tutorials.mnist",
     "output_type": "error",
     "traceback": [
      "\u001b[0;31m---------------------------------------------------------------------------\u001b[0m",
      "\u001b[0;31mImportError\u001b[0m                               Traceback (most recent call last)",
      "\u001b[0;32m<ipython-input-1-789ebdcf25ba>\u001b[0m in \u001b[0;36m<module>\u001b[0;34m()\u001b[0m\n\u001b[0;32m----> 1\u001b[0;31m \u001b[0;32mfrom\u001b[0m \u001b[0mtensorflow\u001b[0m\u001b[0;34m.\u001b[0m\u001b[0mexamples\u001b[0m\u001b[0;34m.\u001b[0m\u001b[0mtutorials\u001b[0m\u001b[0;34m.\u001b[0m\u001b[0mmnist\u001b[0m \u001b[0;32mimport\u001b[0m \u001b[0minput_data\u001b[0m\u001b[0;34m\u001b[0m\u001b[0m\n\u001b[0m\u001b[1;32m      2\u001b[0m \u001b[0;32mimport\u001b[0m \u001b[0mtensorflow\u001b[0m \u001b[0;32mas\u001b[0m \u001b[0mtf\u001b[0m\u001b[0;34m\u001b[0m\u001b[0m\n\u001b[1;32m      3\u001b[0m \u001b[0;32mimport\u001b[0m \u001b[0margparse\u001b[0m\u001b[0;34m\u001b[0m\u001b[0m\n\u001b[1;32m      4\u001b[0m \u001b[0;32mimport\u001b[0m \u001b[0msys\u001b[0m\u001b[0;34m\u001b[0m\u001b[0m\n\u001b[1;32m      5\u001b[0m \u001b[0;32mimport\u001b[0m \u001b[0mnumpy\u001b[0m \u001b[0;32mas\u001b[0m \u001b[0mnp\u001b[0m\u001b[0;34m\u001b[0m\u001b[0m\n",
      "\u001b[0;31mImportError\u001b[0m: No module named tensorflow.examples.tutorials.mnist"
     ]
    }
   ],
   "source": [
    "from tensorflow.examples.tutorials.mnist import input_data\n",
    "import tensorflow as tf\n",
    "import argparse\n",
    "import sys\n",
    "import numpy as np\n",
    "import cv2\n",
    "import os\n",
    "import traceback\n",
    "import sys"
   ]
  },
  {
   "cell_type": "code",
   "execution_count": 19,
   "metadata": {
    "collapsed": true,
    "deletable": true,
    "editable": true
   },
   "outputs": [],
   "source": [
    "def show_image(im):\n",
    "    cv2.imshow('Image',im)\n",
    "    cv2.waitKey(0)\n",
    "    cv2.destroyAllWindows()"
   ]
  },
  {
   "cell_type": "code",
   "execution_count": 20,
   "metadata": {
    "collapsed": false,
    "deletable": true,
    "editable": true
   },
   "outputs": [
    {
     "name": "stdout",
     "output_type": "stream",
     "text": [
      "Extracting MNIST_data/train-images-idx3-ubyte.gz\n",
      "Extracting MNIST_data/train-labels-idx1-ubyte.gz\n",
      "Extracting MNIST_data/t10k-images-idx3-ubyte.gz\n",
      "Extracting MNIST_data/t10k-labels-idx1-ubyte.gz\n",
      "WARNING:tensorflow:From <ipython-input-20-3ed94f8fc7db>:10: initialize_all_variables (from tensorflow.python.ops.variables) is deprecated and will be removed after 2017-03-02.\n",
      "Instructions for updating:\n",
      "Use `tf.global_variables_initializer` instead.\n"
     ]
    }
   ],
   "source": [
    "mnist = input_data.read_data_sets(\"MNIST_data/\", one_hot=True)\n",
    "x = tf.placeholder(tf.float32, [None, 784]) #None gets replaced by the number of examples to be passed \n",
    "W = tf.Variable(tf.zeros([784, 10]))\n",
    "b = tf.Variable(tf.zeros([10]))\n",
    "y = tf.nn.softmax(tf.matmul(x, W) + b)\n",
    "y_ = tf.placeholder(tf.float32, [None, 10]) #Same as above none this is required during interactive session.\n",
    "cross_entropy = tf.reduce_mean( tf.nn.softmax_cross_entropy_with_logits(labels=y_, logits=y))\n",
    "train_step = tf.train.GradientDescentOptimizer(0.5).minimize(cross_entropy)\n",
    "sess = tf.InteractiveSession()\n",
    "tf.initialize_all_variables().run()\n",
    "for _ in range(1000):\n",
    "  batch_xs, batch_ys = mnist.train.next_batch(100)\n",
    "  sess.run(train_step, feed_dict={x: batch_xs, y_: batch_ys})\n"
   ]
  },
  {
   "cell_type": "code",
   "execution_count": 21,
   "metadata": {
    "collapsed": false,
    "deletable": true,
    "editable": true
   },
   "outputs": [],
   "source": [
    "# np.shape(mnist.test.images)  Gives (10000, 784) \n",
    "# np.shape(mnist.test.labels) Gives (10000, 10)\n",
    "# print(sess.run(tf.argmax(y,1), feed_dict={x: mnist.test.images})) Gives [7 2 1 ..., 4 8 6]\n",
    "\"\"\"Give a proper Thresholding now.\"\"\"\n",
    "\n",
    "def make_x():\n",
    "    os.chdir('/home/yash/Desktop/Neural Networks/Handwriting Recognition/')\n",
    "    for i in range (2,30):\n",
    "        try:\n",
    "            img = cv2.imread('DATASET/outfile'+str(i)+'.jpg')\n",
    "            height,width = img.shape[:2]\n",
    "            rimg = cv2.resize(img, (28,28))\n",
    "            ret,rimg = cv2.threshold(rimg,127,255,cv2.THRESH_BINARY)\n",
    "            rimg = cv2.GaussianBlur(rimg,(1,1),0) \n",
    "            rimg = cv2.cvtColor( rimg, cv2.COLOR_RGB2GRAY )\n",
    "            dip = 255 - rimg\n",
    "            dip = cv2.dilate(dip, np.ones((1,1)))\n",
    "            dip = dip.astype(np.float32, copy=False)\n",
    "            dip = dip/255\n",
    "            show_image(dip)\n",
    "            dip = cv2.resize(dip, (784,1))\n",
    "            print(sess.run(tf.argmax(y,1), feed_dict={x: dip}))\n",
    "        except:\n",
    "            print \"ok\""
   ]
  },
  {
   "cell_type": "code",
   "execution_count": 22,
   "metadata": {
    "collapsed": false,
    "deletable": true,
    "editable": true,
    "scrolled": true
   },
   "outputs": [
    {
     "name": "stdout",
     "output_type": "stream",
     "text": [
      "[4]\n",
      "ok\n",
      "[7]\n",
      "ok\n",
      "[4]\n",
      "ok\n",
      "ok\n",
      "ok\n",
      "ok\n",
      "ok\n",
      "ok\n",
      "ok\n",
      "ok\n",
      "[2]\n",
      "[9]\n",
      "[6]\n",
      "[6]\n",
      "[2]\n",
      "[9]\n",
      "[7]\n",
      "[4]\n",
      "[4]\n",
      "[4]\n",
      "[4]\n",
      "[4]\n",
      "[4]\n",
      "[6]\n",
      "[4]\n"
     ]
    }
   ],
   "source": [
    "make_x()"
   ]
  },
  {
   "cell_type": "code",
   "execution_count": null,
   "metadata": {
    "collapsed": false,
    "deletable": true,
    "editable": true
   },
   "outputs": [],
   "source": []
  },
  {
   "cell_type": "code",
   "execution_count": null,
   "metadata": {
    "collapsed": true,
    "deletable": true,
    "editable": true
   },
   "outputs": [],
   "source": []
  },
  {
   "cell_type": "code",
   "execution_count": null,
   "metadata": {
    "collapsed": true,
    "deletable": true,
    "editable": true
   },
   "outputs": [],
   "source": []
  },
  {
   "cell_type": "code",
   "execution_count": null,
   "metadata": {
    "collapsed": true,
    "deletable": true,
    "editable": true
   },
   "outputs": [],
   "source": []
  },
  {
   "cell_type": "code",
   "execution_count": null,
   "metadata": {
    "collapsed": true,
    "deletable": true,
    "editable": true
   },
   "outputs": [],
   "source": [
    "#dip = cv2.dip(img,kernel,iterations = 1)\n",
    "            \n",
    "            show_image(dip)\n",
    "            #dip = np.reshape(dip,(1,784))\n",
    "            #print(sess.run(tf.argmax(y,1), feed_dict={x: dip}))"
   ]
  },
  {
   "cell_type": "code",
   "execution_count": null,
   "metadata": {
    "collapsed": true,
    "deletable": true,
    "editable": true
   },
   "outputs": [],
   "source": [
    "# np.shape(mnist.test.images)  Gives (10000, 784) \n",
    "# np.shape(mnist.test.labels) Gives (10000, 10)\n",
    "# print(sess.run(tf.argmax(y,1), feed_dict={x: mnist.test.images})) Gives [7 2 1 ..., 4 8 6]\n",
    "os.chdir('/home/yash/Desktop/Neural Networks/Handwriting Recognition')\n",
    "def make_x():\n",
    "    ax = []\n",
    "    for i in range (1,7):\n",
    "        img = cv2.imread('outputs/images/outfile'+str(i)+'.jpg')\n",
    "        try:\n",
    "            rimg = cv2.resize(img, (28,28))\n",
    "            rimg = cv2.GaussianBlur(rimg,(5,5),0)\n",
    "            rimg = cv2.cvtColor( rimg, cv2.COLOR_RGB2GRAY )\n",
    "            dip = 255 - rimg\n",
    "            dip = dip.astype(np.float32, copy=False)\n",
    "            dip = dip/255\n",
    "            dip = np.reshape(dip,(784))\n",
    "            ax.append(dip)\n",
    "        except:\n",
    "            print \"ok\"\n",
    "        \n",
    "    print(sess.run(tf.argmax(y,1), feed_dict={x: ax}))"
   ]
  }
 ],
 "metadata": {
  "kernelspec": {
   "display_name": "Python 2",
   "language": "python",
   "name": "python2"
  },
  "language_info": {
   "codemirror_mode": {
    "name": "ipython",
    "version": 2
   },
   "file_extension": ".py",
   "mimetype": "text/x-python",
   "name": "python",
   "nbconvert_exporter": "python",
   "pygments_lexer": "ipython2",
   "version": "2.7.13"
  }
 },
 "nbformat": 4,
 "nbformat_minor": 2
}
