{
 "cells": [
  {
   "cell_type": "code",
   "execution_count": 2,
   "metadata": {
    "collapsed": true
   },
   "outputs": [],
   "source": [
    "import cv2 \n",
    "import numpy as np \n",
    "import math\n",
    "import scipy.misc\n",
    "import os"
    "import pandas"
   ]
  },
  {
   "cell_type": "code",
   "execution_count": 3,
   "metadata": {
    "collapsed": true
   },
   "outputs": [],
   "source": [
    "#This function extracts the opposite points of a rectangle.\n",
    "def getp(rect):\n",
    "\tx1 = width; y1 = height ; x2 = 0; y2 = 0\n",
    "\t\n",
    "\tfor i in range(0,4):\n",
    "\t\tif(rect[i][0][0] > x2):\n",
    "\t\t\tx2 = rect[i][0][0]\n",
    "\t\t\n",
    "\t\tif(rect[i][0][0] < x1):\n",
    "\t\t\tx1 = rect[i][0][0]\n",
    "\t\t\n",
    "\t\tif(rect[i][0][1] > y2):\n",
    "\t\t\ty2 = rect[i][0][1]\n",
    "\t\t\n",
    "\t\tif(rect[i][0][1] < y1):\n",
    "\t\t\ty1 = rect[i][0][1]\n",
    "\t\n",
    "\treturn [[x1,x2],[y1,y2]]\n"
   ]
  },
  {
   "cell_type": "code",
   "execution_count": 4,
   "metadata": {
    "collapsed": true
   },
   "outputs": [],
   "source": [
    "#This function arranges the images in order from left to right and also gets the diagonal points \n",
    "def arrange(rects):\n",
    "\tar = [[[1001]]]\n",
    "\tfor r in rects:\n",
    "\t\ttr = getp(r)\n",
    "\t\tprint tr\n",
    "\t\tfor i in range(0, len(ar)):\n",
    "\t\t\tif(tr[0][0] < ar[i][0][0]):\n",
    "\t\t\t\tar.insert(i,tr)\n",
    "\t\t\t\tbreak\n",
    "\treturn ar[:-1]"
   ]
  },
  {
   "cell_type": "code",
   "execution_count": 5,
   "metadata": {
    "collapsed": false
   },
   "outputs": [
    {
     "ename": "NameError",
     "evalue": "name 'fdsafads' is not defined",
     "output_type": "error",
     "traceback": [
      "\u001b[0;31m---------------------------------------------------------------------------\u001b[0m",
      "\u001b[0;31mNameError\u001b[0m                                 Traceback (most recent call last)",
      "\u001b[0;32m<ipython-input-5-7af1cb254101>\u001b[0m in \u001b[0;36m<module>\u001b[0;34m()\u001b[0m\n\u001b[0;32m----> 1\u001b[0;31m \u001b[0mfdsafads\u001b[0m\u001b[0;34m\u001b[0m\u001b[0m\n\u001b[0m",
      "\u001b[0;31mNameError\u001b[0m: name 'fdsafads' is not defined"
     ]
    }
   ],
   "source": []
  },
  {
   "cell_type": "code",
   "execution_count": null,
   "metadata": {
    "collapsed": true
   },
   "outputs": [],
   "source": []
  }
 ],
 "metadata": {
  "kernelspec": {
   "display_name": "Python 2",
   "language": "python",
   "name": "python2"
  },
  "language_info": {
   "codemirror_mode": {
    "name": "ipython",
    "version": 2
   },
   "file_extension": ".py",
   "mimetype": "text/x-python",
   "name": "python",
   "nbconvert_exporter": "python",
   "pygments_lexer": "ipython2",
   "version": "2.7.12"
  }
 },
 "nbformat": 4,
 "nbformat_minor": 2
}
